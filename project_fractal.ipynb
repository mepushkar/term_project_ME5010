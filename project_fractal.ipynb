{
 "cells": [
  {
   "cell_type": "code",
   "execution_count": null,
   "id": "07c84b2b",
   "metadata": {},
   "outputs": [],
   "source": [
    "import numpy as np\n",
    "import matplotlib.pyplot as plt\n",
    "from matplotlib.colors import ListedColormap"
   ]
  },
  {
   "cell_type": "code",
   "execution_count": null,
   "id": "61d0f65d",
   "metadata": {},
   "outputs": [],
   "source": [
    "def f(Z,n): \n",
    "    return((Z**n)-1)                                                         #defining function Z^n-1"
   ]
  },
  {
   "cell_type": "code",
   "execution_count": null,
   "id": "c132fe62",
   "metadata": {},
   "outputs": [],
   "source": [
    "def f_dash(Z,n):\n",
    "    return(n*Z**(n-1))                                                       #defining derivative of function Z^n-1"
   ]
  },
  {
   "cell_type": "code",
   "execution_count": null,
   "id": "bd0c415d",
   "metadata": {},
   "outputs": [],
   "source": [
    "def newton_root_finding(n,start_x,end_x,start_y,end_y,n_pts):                #implementing Newton Raphson\n",
    "    x=np.linspace(start_x,end_x,n_pts)\n",
    "    y=np.linspace(start_y,end_y,n_pts)\n",
    "    X,Y=np.meshgrid(x,y)\n",
    "    \n",
    "    Z=X+1j*Y\n",
    "    max_iter=50\n",
    "    for i in range (1,max_iter):\n",
    "        try:\n",
    "            Z=Z-np.divide(f(Z,n),f_dash(Z,n))\n",
    "\n",
    "        except:\n",
    "            next\n",
    "    return(Z)"
   ]
  },
  {
   "cell_type": "code",
   "execution_count": null,
   "id": "cd6be16f",
   "metadata": {},
   "outputs": [],
   "source": [
    "def fractal_plot(n,start_x,end_x,start_y,end_y,n_pts):                     #plotting fractal as per root reached\n",
    "    a = [0]*(n+1)\n",
    "    a[0] = 1 \n",
    "    a[-1]=-1\n",
    "    r=np.roots(a)\n",
    "    converged_Z=newton_root_finding(n,start_x,end_x,start_y,end_y,n_pts)\n",
    "    eps=0.000000001;\n",
    "    z=[]\n",
    "    for i in range (len(r)):\n",
    "        condi=abs(converged_Z-r[i])<eps                                     #classifying on basis of root reached\n",
    "        z.append(condi.astype(int))\n",
    "    tmp=z[0]\n",
    "    for i in range(1,len(z)):\n",
    "        tmp=np.logical_or(tmp,z[i])\n",
    "    tmp=np.logical_not(tmp)\n",
    "    pp1=z[0]\n",
    "    for i in range (1,len(z)):\n",
    "        pp1=pp1+z[i]*(i+1)\n",
    "    pp1=pp1+(len(z)+1)*tmp\n",
    "    cmap = ListedColormap(['red','green','blue','yellow','orange','magenta','lime','purple','black'])\n",
    "    plt.imshow(pp1, cmap=cmap, origin='lower')\n",
    "    plt.axis('off')\n",
    "    plt.savefig('final n='+str(n)+'.png',format='png',dpi=1500)\n",
    "    return [r,pp1]"
   ]
  },
  {
   "cell_type": "code",
   "execution_count": null,
   "id": "8abefda9",
   "metadata": {
    "scrolled": false
   },
   "outputs": [],
   "source": [
    "start_x = start_y = -2\n",
    "end_x = end_y = 2;\n",
    "n_pts = 2501                                                            \n",
    "# n_s = [3,4,5,6,7,8]      #uncomment for getting fractals for these values\n",
    "n_s=[3]\n",
    "for n in n_s:\n",
    "    a=fractal_plot(n,start_x,end_x,start_y,end_y,n_pts);\n"
   ]
  }
 ],
 "metadata": {
  "kernelspec": {
   "display_name": "Python 3 (ipykernel)",
   "language": "python",
   "name": "python3"
  },
  "language_info": {
   "codemirror_mode": {
    "name": "ipython",
    "version": 3
   },
   "file_extension": ".py",
   "mimetype": "text/x-python",
   "name": "python",
   "nbconvert_exporter": "python",
   "pygments_lexer": "ipython3",
   "version": "3.9.12"
  }
 },
 "nbformat": 4,
 "nbformat_minor": 5
}
